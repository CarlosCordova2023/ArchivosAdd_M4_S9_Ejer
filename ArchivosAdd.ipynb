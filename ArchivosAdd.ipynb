{
  "nbformat": 4,
  "nbformat_minor": 0,
  "metadata": {
    "colab": {
      "provenance": [],
      "authorship_tag": "ABX9TyN9lhX15klmg58icg50DaKM",
      "include_colab_link": true
    },
    "kernelspec": {
      "name": "python3",
      "display_name": "Python 3"
    },
    "language_info": {
      "name": "python"
    }
  },
  "cells": [
    {
      "cell_type": "markdown",
      "metadata": {
        "id": "view-in-github",
        "colab_type": "text"
      },
      "source": [
        "<a href=\"https://colab.research.google.com/github/CarlosCordova2023/ArchivosAdd_M4_S9_Ejer/blob/main/ArchivosAdd.ipynb\" target=\"_parent\"><img src=\"https://colab.research.google.com/assets/colab-badge.svg\" alt=\"Open In Colab\"/></a>"
      ]
    },
    {
      "cell_type": "code",
      "execution_count": 2,
      "metadata": {
        "colab": {
          "base_uri": "https://localhost:8080/"
        },
        "id": "lrkyHsOxsvH5",
        "outputId": "9f536314-c1ce-4b69-8777-b4fed196e258"
      },
      "outputs": [
        {
          "output_type": "stream",
          "name": "stdout",
          "text": [
            "El archivo informacion.txt ya existe, ha sido creado previamente.\n",
            "Datos de información en la línea 1\n",
            "Datos de información en la línea 2\n",
            "Datos de información en la línea 3\n",
            "Datos de información en la línea 4\n",
            "Datos de información en la línea 5\n",
            "\n",
            "Hola Mundo\n",
            "Este en una nueva línea en el archivo\n",
            "agregando la segunda línea del archivo\n",
            "finalizando la línea agregada\n",
            "\n"
          ]
        }
      ],
      "source": [
        "import os\n",
        "\n",
        "nombre_archivo = \"informacion.txt\"\n",
        "\n",
        "\n",
        "if os.path.exists(nombre_archivo):\n",
        "    print(f\"El archivo {nombre_archivo} ya existe, ha sido creado previamente.\")\n",
        "    with open(nombre_archivo, 'a') as archivo:\n",
        "        archivo.write(\"Hola Mundo\\n\")\n",
        "        archivo.write(\"Este en una nueva línea en el archivo\\n\")\n",
        "        archivo.write(\"agregando la segunda línea del archivo\\n\")\n",
        "        archivo.write(\"finalizando la línea agregada\\n\")\n",
        "else:\n",
        "    with open(nombre_archivo, 'w') as archivo:\n",
        "        archivo.write(\"Datos de información en la línea 1\\n\")\n",
        "        archivo.write(\"Datos de información en la línea 2\\n\")\n",
        "        archivo.write(\"Datos de información en la línea 3\\n\")\n",
        "        archivo.write(\"Datos de información en la línea 4\\n\")\n",
        "        archivo.write(\"Datos de información en la línea 5\\n\")\n",
        "        archivo.write(\"Hola Mundo\\n\")\n",
        "        archivo.write(\"Este en una nueva línea en el archivo\\n\")\n",
        "        archivo.write(\"agregando la segunda línea del archivo\\n\")\n",
        "        archivo.write(\"finalizando la línea agregada\\n\")\n",
        "    print(f\"El archivo {nombre_archivo} ha sido creado y las líneas han sido agregadas.\")\n",
        "\n",
        "with open(nombre_archivo, 'r') as archivo:\n",
        "    contenido = archivo.read()\n",
        "    print(contenido)\n"
      ]
    }
  ]
}